{
 "cells": [
  {
   "cell_type": "code",
   "execution_count": null,
   "metadata": {},
   "outputs": [],
   "source": [
    "!pip install wget\n",
    "!apt-get install sox libsndfile1 ffmpeg\n",
    "!pip install matplotlib Cython packaging\n",
    "\n",
    "!python -m pip install git+https://github.com/NVIDIA/NeMo.git@main#egg=nemo_toolkit[asr]\n",
    "!python -m pip install pyannote.audio==3.2.0\n",
    "!pip install pydub librosa soundfile"
   ]
  },
  {
   "cell_type": "code",
   "execution_count": 30,
   "metadata": {},
   "outputs": [],
   "source": [
    "import torch\n",
    "import torchaudio\n",
    "from nemo.collections.asr.models import EncDecRNNTBPEModel\n",
    "from nemo.collections.asr.modules.audio_preprocessing import (\n",
    "    AudioToMelSpectrogramPreprocessor as NeMoAudioToMelSpectrogramPreprocessor,\n",
    ")\n",
    "from nemo.collections.asr.parts.preprocessing.features import (\n",
    "    FilterbankFeaturesTA as NeMoFilterbankFeaturesTA,\n",
    ")\n",
    "import numpy as np\n",
    "from pyannote.audio import Pipeline\n",
    "from pydub import AudioSegment\n",
    "import os\n",
    "import librosa\n",
    "import soundfile as sf\n",
    "from typing import List, Tuple\n",
    "from io import BytesIO\n",
    "import time"
   ]
  },
  {
   "cell_type": "code",
   "execution_count": 31,
   "metadata": {},
   "outputs": [],
   "source": [
    "# Define constants\n",
    "BATCH_SIZE = 10\n",
    "\n",
    "# Custom class for filterbank features\n",
    "class FilterbankFeaturesTA(NeMoFilterbankFeaturesTA):\n",
    "    def __init__(self, mel_scale: str = \"htk\", wkwargs=None, **kwargs):\n",
    "        if \"window_size\" in kwargs:\n",
    "            del kwargs[\"window_size\"]\n",
    "        if \"window_stride\" in kwargs:\n",
    "            del kwargs[\"window_stride\"]\n",
    "\n",
    "        super().__init__(**kwargs)\n",
    "\n",
    "        self._mel_spec_extractor: torchaudio.transforms.MelSpectrogram = (\n",
    "            torchaudio.transforms.MelSpectrogram(\n",
    "                sample_rate=self._sample_rate,\n",
    "                win_length=self.win_length,\n",
    "                hop_length=self.hop_length,\n",
    "                n_mels=kwargs[\"nfilt\"],\n",
    "                window_fn=self.torch_windows[kwargs[\"window\"]],\n",
    "                mel_scale=mel_scale,\n",
    "                norm=kwargs[\"mel_norm\"],\n",
    "                n_fft=kwargs[\"n_fft\"],\n",
    "                f_max=kwargs.get(\"highfreq\", None),\n",
    "                f_min=kwargs.get(\"lowfreq\", 0),\n",
    "                wkwargs=wkwargs,\n",
    "            )\n",
    "        )\n",
    "\n",
    "# Custom class for audio preprocessing\n",
    "class AudioToMelSpectrogramPreprocessor(NeMoAudioToMelSpectrogramPreprocessor):\n",
    "    def __init__(self, mel_scale: str = \"htk\", **kwargs):\n",
    "        super().__init__(**kwargs)\n",
    "        kwargs[\"nfilt\"] = kwargs[\"features\"]\n",
    "        del kwargs[\"features\"]\n",
    "        self.featurizer = (\n",
    "            FilterbankFeaturesTA(  # Deprecated arguments; kept for config compatibility\n",
    "                mel_scale=mel_scale,\n",
    "                **kwargs,\n",
    "            )\n",
    "        )\n",
    "\n",
    "class Diarization:\n",
    "    def __init__(self, start, stop, speaker) -> None:\n",
    "        self.start = start\n",
    "        self.stop = stop\n",
    "        self.speaker = speaker\n"
   ]
  },
  {
   "cell_type": "code",
   "execution_count": 54,
   "metadata": {},
   "outputs": [
    {
     "name": "stdout",
     "output_type": "stream",
     "text": [
      "[NeMo I 2024-09-08 07:14:46 nemo_logging:381] Tokenizer SentencePieceTokenizer initialized with 512 tokens\n"
     ]
    },
    {
     "name": "stderr",
     "output_type": "stream",
     "text": [
      "[NeMo W 2024-09-08 07:14:46 nemo_logging:393] Could not load dataset as `manifest_filepath` was None. Provided config : {'shuffle': False, 'manifest_filepath': None}\n"
     ]
    },
    {
     "name": "stdout",
     "output_type": "stream",
     "text": [
      "[NeMo I 2024-09-08 07:14:46 nemo_logging:381] PADDING: 0\n",
      "[NeMo I 2024-09-08 07:14:47 nemo_logging:381] Using RNNT Loss : warprnnt_numba\n",
      "    Loss warprnnt_numba_kwargs: {'fastemit_lambda': 0.0, 'clamp': -1.0}\n",
      "[NeMo I 2024-09-08 07:14:47 nemo_logging:381] Using RNNT Loss : warprnnt_numba\n",
      "    Loss warprnnt_numba_kwargs: {'fastemit_lambda': 0.0, 'clamp': -1.0}\n",
      "[NeMo I 2024-09-08 07:14:47 nemo_logging:381] Using RNNT Loss : warprnnt_numba\n",
      "    Loss warprnnt_numba_kwargs: {'fastemit_lambda': 0.0, 'clamp': -1.0}\n"
     ]
    },
    {
     "name": "stderr",
     "output_type": "stream",
     "text": [
      "Lightning automatically upgraded your loaded checkpoint from v1.1.3 to v2.4.0. To apply the upgrade to your files permanently, run `python -m pytorch_lightning.utilities.upgrade_checkpoint ../../../.cache/torch/pyannote/models--pyannote--segmentation/snapshots/059e96f964841d40f1a5e755bb7223f76666bba4/pytorch_model.bin`\n"
     ]
    },
    {
     "name": "stdout",
     "output_type": "stream",
     "text": [
      "Model was trained with pyannote.audio 0.0.1, yours is 3.1.1. Bad things might happen unless you revert pyannote.audio to 0.x.\n",
      "Model was trained with torch 1.7.1, yours is 2.4.1. Bad things might happen unless you revert torch to 1.x.\n"
     ]
    },
    {
     "data": {
      "text/plain": [
       "<pyannote.audio.pipelines.speaker_diarization.SpeakerDiarization at 0x7018047b7650>"
      ]
     },
     "execution_count": 54,
     "metadata": {},
     "output_type": "execute_result"
    }
   ],
   "source": [
    "device = \"cuda\" if torch.cuda.is_available() else \"cpu\"\n",
    "\n",
    "# Load ASR model\n",
    "model = EncDecRNNTBPEModel.from_config_file(\"./rnnt_model_config.yaml\")\n",
    "ckpt = torch.load(\"./rnnt_model_weights.ckpt\", map_location=\"cpu\")\n",
    "model.load_state_dict(ckpt, strict=False)\n",
    "model.eval()\n",
    "model = model.to(device)\n",
    "\n",
    "# Load voice activity detection pipeline\n",
    "pipeline_vad = Pipeline.from_pretrained(\n",
    "        \"pyannote/voice-activity-detection\", use_auth_token=os.getenv('HF_TOKEN')\n",
    "    )\n",
    "pipeline_vad = pipeline_vad.to(torch.device(device))\n",
    "\n",
    "# Load diarization model\n",
    "pipeline_diarization = Pipeline.from_pretrained(\n",
    "    \"pyannote/speaker-diarization-3.1\",\n",
    "    use_auth_token=os.getenv('HF_TOKEN'))\n",
    "pipeline_diarization.to(torch.device(device))"
   ]
  },
  {
   "cell_type": "code",
   "execution_count": 56,
   "metadata": {},
   "outputs": [],
   "source": [
    "# Function to convert AudioSegment to numpy array\n",
    "def audiosegment_to_numpy(audiosegment: AudioSegment) -> np.ndarray:\n",
    "    \"\"\"Convert AudioSegment to numpy array.\"\"\"\n",
    "    samples = np.array(audiosegment.get_array_of_samples())\n",
    "    if audiosegment.channels == 2:\n",
    "        samples = samples.reshape((-1, 2))\n",
    "\n",
    "    samples = samples.astype(np.float32, order=\"C\") / 32768.0\n",
    "    return samples\n",
    "\n",
    "# Function to convert audio to WAV format with 16kHz sampling rate\n",
    "def convert_to_wav_16k(input_file: str, output_file: str):\n",
    "  \"\"\"\n",
    "  Converts any audio file to WAV format with a sampling rate of 16000 Hz.\n",
    "\n",
    "  Args:\n",
    "    input_file: Path to the input audio file (any format supported by librosa).\n",
    "    output_file: Path to save the output WAV file.\n",
    "  \"\"\"\n",
    "  try:\n",
    "    # Load the audio file using librosa\n",
    "    y, sr = librosa.load(input_file, sr=None)  # Load with original sampling rate\n",
    "\n",
    "    # Resample to 16kHz if necessary\n",
    "    if sr != 16000:\n",
    "      y = librosa.resample(y, orig_sr=sr, target_sr=16000)\n",
    "\n",
    "    # Save as WAV file with 16kHz sampling rate\n",
    "    sf.write(output_file, y, 16000, subtype='PCM_16') \n",
    "\n",
    "  except Exception as e:\n",
    "    print(f\"Error converting file: {e}\")\n",
    "\n",
    "def segment_audio(\n",
    "    audio_path: str,\n",
    "    pipeline_: Pipeline,\n",
    "    max_duration: float = 22.0,\n",
    "    min_duration: float = 10.0,\n",
    "    new_chunk_threshold: float = 0.2,\n",
    ") -> Tuple[List[np.ndarray], List[List[float]]]:\n",
    "    audio = AudioSegment.from_wav(audio_path)\n",
    "    audio_bytes = BytesIO()\n",
    "    audio.export(audio_bytes, format='wav')\n",
    "    audio_bytes.seek(0)\n",
    "\n",
    "    # Process audio with pipeline to obtain segments with speech activity\n",
    "    sad_segments = pipeline_({\"uri\": \"filename\", \"audio\": audio_bytes})\n",
    "\n",
    "    segments = []\n",
    "    curr_duration = 0\n",
    "    curr_start = 0\n",
    "    curr_end = 0\n",
    "    boundaries = []\n",
    "\n",
    "    # Concat segments from pipeline into chunks for asr according to max/min duration\n",
    "    for segment in sad_segments.get_timeline().support():\n",
    "        start = max(0, segment.start)\n",
    "        end = min(len(audio) / 1000, segment.end)\n",
    "        if (\n",
    "            curr_duration > min_duration and start - curr_end > new_chunk_threshold\n",
    "        ) or (curr_duration + (end - curr_end) > max_duration):\n",
    "            audio_segment = audiosegment_to_numpy(\n",
    "                audio[curr_start * 1000 : curr_end * 1000]\n",
    "            )\n",
    "            segments.append(audio_segment)\n",
    "            boundaries.append([curr_start, curr_end])\n",
    "            curr_start = start\n",
    "\n",
    "        curr_end = end\n",
    "        curr_duration = curr_end - curr_start\n",
    "\n",
    "    if curr_duration != 0:\n",
    "        audio_segment = audiosegment_to_numpy(\n",
    "            audio[curr_start * 1000 : curr_end * 1000]\n",
    "        )\n",
    "        segments.append(audio_segment)\n",
    "        boundaries.append([curr_start, curr_end])\n",
    "\n",
    "    return segments, boundaries\n",
    "\n",
    "# Function to format time in HH:MM:SS format\n",
    "def format_time(seconds):\n",
    "    hours = int(seconds // 3600)\n",
    "    minutes = int((seconds % 3600) // 60)\n",
    "    seconds = seconds % 60\n",
    "    full_seconds = int(seconds)\n",
    "\n",
    "    if hours > 0:\n",
    "        return f\"{hours:02}:{minutes:02}:{full_seconds:02}\"\n",
    "    else:\n",
    "        return f\"{minutes:02}:{full_seconds:02}\"\n"
   ]
  },
  {
   "cell_type": "code",
   "execution_count": 57,
   "metadata": {},
   "outputs": [],
   "source": [
    "from transformers import pipeline\n",
    "from transformers import AutoTokenizer\n",
    "import torch\n",
    "import re\n",
    "\n",
    "pt = \"RUPunct/RUPunct_big\"\n",
    "device = \"cuda\" if torch.cuda.is_available() else \"cpu\"\n",
    "tk = AutoTokenizer.from_pretrained(pt, strip_accents=False, add_prefix_space=True)\n",
    "classifier = pipeline(\"ner\", model=pt, tokenizer=tk, aggregation_strategy=\"first\", device=device)\n",
    "\n",
    "\n",
    "def process_token(token, label):\n",
    "    if label == \"LOWER_O\":\n",
    "        return token\n",
    "    if label == \"LOWER_PERIOD\":\n",
    "        return token + \".\"\n",
    "    if label == \"LOWER_COMMA\":\n",
    "        return token + \",\"\n",
    "    if label == \"LOWER_QUESTION\":\n",
    "        return token + \"?\"\n",
    "    if label == \"LOWER_TIRE\":\n",
    "        return token + \"—\"\n",
    "    if label == \"LOWER_DVOETOCHIE\":\n",
    "        return token + \":\"\n",
    "    if label == \"LOWER_VOSKL\":\n",
    "        return token + \"!\"\n",
    "    if label == \"LOWER_PERIODCOMMA\":\n",
    "        return token + \";\"\n",
    "    if label == \"LOWER_DEFIS\":\n",
    "        return token + \"-\"\n",
    "    if label == \"LOWER_MNOGOTOCHIE\":\n",
    "        return token + \"...\"\n",
    "    if label == \"LOWER_QUESTIONVOSKL\":\n",
    "        return token + \"?!\"\n",
    "    if label == \"UPPER_O\":\n",
    "        return token.capitalize()\n",
    "    if label == \"UPPER_PERIOD\":\n",
    "        return token.capitalize() + \".\"\n",
    "    if label == \"UPPER_COMMA\":\n",
    "        return token.capitalize() + \",\"\n",
    "    if label == \"UPPER_QUESTION\":\n",
    "        return token.capitalize() + \"?\"\n",
    "    if label == \"UPPER_TIRE\":\n",
    "        return token.capitalize() + \" —\"\n",
    "    if label == \"UPPER_DVOETOCHIE\":\n",
    "        return token.capitalize() + \":\"\n",
    "    if label == \"UPPER_VOSKL\":\n",
    "        return token.capitalize() + \"!\"\n",
    "    if label == \"UPPER_PERIODCOMMA\":\n",
    "        return token.capitalize() + \";\"\n",
    "    if label == \"UPPER_DEFIS\":\n",
    "        return token.capitalize() + \"-\"\n",
    "    if label == \"UPPER_MNOGOTOCHIE\":\n",
    "        return token.capitalize() + \"...\"\n",
    "    if label == \"UPPER_QUESTIONVOSKL\":\n",
    "        return token.capitalize() + \"?!\"\n",
    "    if label == \"UPPER_TOTAL_O\":\n",
    "        return token.upper()\n",
    "    if label == \"UPPER_TOTAL_PERIOD\":\n",
    "        return token.upper() + \".\"\n",
    "    if label == \"UPPER_TOTAL_COMMA\":\n",
    "        return token.upper() + \",\"\n",
    "    if label == \"UPPER_TOTAL_QUESTION\":\n",
    "        return token.upper() + \"?\"\n",
    "    if label == \"UPPER_TOTAL_TIRE\":\n",
    "        return token.upper() + \" —\"\n",
    "    if label == \"UPPER_TOTAL_DVOETOCHIE\":\n",
    "        return token.upper() + \":\"\n",
    "    if label == \"UPPER_TOTAL_VOSKL\":\n",
    "        return token.upper() + \"!\"\n",
    "    if label == \"UPPER_TOTAL_PERIODCOMMA\":\n",
    "        return token.upper() + \";\"\n",
    "    if label == \"UPPER_TOTAL_DEFIS\":\n",
    "        return token.upper() + \"-\"\n",
    "    if label == \"UPPER_TOTAL_MNOGOTOCHIE\":\n",
    "        return token.upper() + \"...\"\n",
    "    if label == \"UPPER_TOTAL_QUESTIONVOSKL\":\n",
    "        return token.upper() + \"?!\"\n",
    "\n",
    "def update_punctuation(hyp: str):\n",
    "    full_text = []\n",
    "    tmp = re.split(\" |\\n\", hyp)\n",
    "    part = ''\n",
    "    for el in tmp:\n",
    "        if len(part.split()) < 250:\n",
    "            part += el + ' '\n",
    "        else:\n",
    "            full_text.append(part)\n",
    "            part = ''\n",
    "    if part != '':\n",
    "        full_text.append(part)\n",
    "    full_answer = []\n",
    "    for el in full_text:\n",
    "        output = \"\"\n",
    "        preds = classifier(el)\n",
    "        for item in preds:\n",
    "            output += \" \" + process_token(item['word'].strip(), item['entity_group'])\n",
    "        full_answer.append(output.lstrip())\n",
    "    return ' '.join(full_answer)\n"
   ]
  },
  {
   "cell_type": "code",
   "execution_count": 58,
   "metadata": {},
   "outputs": [],
   "source": [
    "# Function to perform ASR inference on the audio file\n",
    "def audio_inference(file_path: str) -> str:\n",
    "    preprocessed_audio_path = 'preprocessed_audio.wav'\n",
    "    convert_to_wav_16k(file_path, preprocessed_audio_path)\n",
    "    waveform, sample_rate = torchaudio.load(preprocessed_audio_path)\n",
    "    diarization = pipeline_diarization({\"waveform\": waveform, \"sample_rate\": sample_rate})\n",
    "\n",
    "    # run the diarization pipeline on an audio file\n",
    "    diarization = pipeline_diarization(preprocessed_audio_path)\n",
    "    check_list = []\n",
    "    for turn, _, speaker in diarization.itertracks(yield_label=True):\n",
    "        if len(check_list) == 0:\n",
    "            check_list.append(Diarization(turn.start, turn.end, speaker))\n",
    "        elif speaker != check_list[-1].speaker:\n",
    "            check_list.append(Diarization(turn.start, turn.end, speaker))\n",
    "        else:\n",
    "            check_list[-1].stop = turn.end\n",
    "    postprocessing_list = []\n",
    "    for el in check_list:\n",
    "        if el.stop - el.start > 0.5:\n",
    "            if len(postprocessing_list) == 0:\n",
    "                postprocessing_list.append(el)\n",
    "            elif el.speaker == postprocessing_list[-1].speaker:\n",
    "                postprocessing_list[-1].stop = el.stop\n",
    "            else:\n",
    "                postprocessing_list.append(el)\n",
    "    speakers = set()\n",
    "    for el in postprocessing_list:\n",
    "        speakers.add(el.speaker)\n",
    "     # run the ASR pipeline on an audio file\n",
    "    segments, boundaries = segment_audio(preprocessed_audio_path, pipeline_vad)\n",
    "    transcriptions = model.transcribe(segments, batch_size=BATCH_SIZE)[0]\n",
    "    full_text = f'{postprocessing_list[0].speaker}:({format_time(postprocessing_list[0].start)}-{format_time(postprocessing_list[0].stop)})\\n'\n",
    "    asr_text = ''\n",
    "    for transcription, boundary in zip(transcriptions, boundaries):\n",
    "        try:\n",
    "            if (boundary[0] >= postprocessing_list[0].start - 0.5) and (boundary[1] <= postprocessing_list[0].stop + 0.5):\n",
    "                full_text += transcription + '\\n'\n",
    "            else:\n",
    "                transcription_list = transcription.split(' ')\n",
    "                if (postprocessing_list[0].stop - boundary[0]) < 0:\n",
    "                    postprocessing_list.pop(0)\n",
    "                    full_text += f'\\n{postprocessing_list[0].speaker}:({format_time(postprocessing_list[0].start)}-{format_time(postprocessing_list[0].stop)})\\n'\n",
    "                    full_text += transcription\n",
    "                else: \n",
    "                    formula = round( len(transcription_list) * ((postprocessing_list[0].stop - boundary[0]) / (boundary[1] - boundary[0])))\n",
    "                    part1 = ' '.join(transcription_list[:formula])\n",
    "                    part2 = ' '.join(transcription_list[formula:])\n",
    "                    full_text += part1\n",
    "                    postprocessing_list.pop(0)\n",
    "                    full_text += f'\\n{postprocessing_list[0].speaker}:({format_time(postprocessing_list[0].start)}-{format_time(postprocessing_list[0].stop)})\\n'\n",
    "                    full_text += part2\n",
    "                asr_text +=f'{transcription}\\n'\n",
    "        except:\n",
    "            asr_text +=f'{transcription}\\n'\n",
    "        \n",
    "    return asr_text, full_text, len(speakers)\n"
   ]
  },
  {
   "cell_type": "code",
   "execution_count": 77,
   "metadata": {},
   "outputs": [
    {
     "name": "stderr",
     "output_type": "stream",
     "text": [
      "Transcribing: 100%|██████████| 9/9 [00:01<00:00,  5.17it/s]\n"
     ]
    },
    {
     "name": "stdout",
     "output_type": "stream",
     "text": [
      "2\n",
      "Время на транскрипцию и подсчет спикеров: 93.18853306770325\n"
     ]
    },
    {
     "name": "stderr",
     "output_type": "stream",
     "text": [
      "Transcribing: 100%|██████████| 8/8 [00:02<00:00,  2.93it/s]\n"
     ]
    },
    {
     "name": "stdout",
     "output_type": "stream",
     "text": [
      "3\n",
      "Время на транскрипцию и подсчет спикеров: 88.49120712280273\n"
     ]
    },
    {
     "name": "stderr",
     "output_type": "stream",
     "text": [
      "Transcribing: 100%|██████████| 6/6 [00:01<00:00,  4.63it/s]\n"
     ]
    },
    {
     "name": "stdout",
     "output_type": "stream",
     "text": [
      "2\n",
      "Время на транскрипцию и подсчет спикеров: 55.46796894073486\n"
     ]
    },
    {
     "name": "stderr",
     "output_type": "stream",
     "text": [
      "Transcribing: 100%|██████████| 4/4 [00:00<00:00,  6.27it/s]"
     ]
    },
    {
     "name": "stdout",
     "output_type": "stream",
     "text": [
      "2\n",
      "Время на транскрипцию и подсчет спикеров: 20.241917848587036\n",
      "Время: 257.40371346473694\n"
     ]
    },
    {
     "name": "stderr",
     "output_type": "stream",
     "text": [
      "\n"
     ]
    }
   ],
   "source": [
    "start_full_time = time.time()\n",
    "all_texts = []\n",
    "speakers = []\n",
    "audio_names = []\n",
    "for filename in os.listdir('test_dataset_pravitelstvo_test'):\n",
    "    start = time.time()\n",
    "    asr, _, count_speakers = audio_inference(os.path.join('test_dataset_pravitelstvo_test', filename))\n",
    "    asr = update_punctuation(asr)\n",
    "    all_texts.append(asr)\n",
    "    speakers.append(count_speakers)\n",
    "    audio_names.append(filename.split('.')[0])\n",
    "    print(count_speakers)\n",
    "    end = time.time()\n",
    "    print(f'Время на транскрипцию и подсчет спикеров: {end - start}')\n",
    "    os.remove('preprocessed_audio.wav')\n",
    "end_full_time = time.time()\n",
    "print(f'Время: {end_full_time - start_full_time}')"
   ]
  },
  {
   "cell_type": "markdown",
   "metadata": {},
   "source": [
    "## Общее время обработки транскрипций: 4 минуты 17 секунды"
   ]
  },
  {
   "cell_type": "code",
   "execution_count": 83,
   "metadata": {},
   "outputs": [
    {
     "data": {
      "text/plain": [
       "['Уважаемый алексей Геннадьевич, уважаемые коллеги! Мы сегодня продолжаем встречи с фракциями Государственной Думы, которые традиционно проводим перед отчетом правительства в Государственной Думе, и мы обсудили уже с парламентариями целый комплекс вопросов, предложений. Абсолютно уверен, что идеи и наработки, которые будут представлены фракцией НОВЫЕ ЛЮДИ, также будут способствовать конструктивному взаимодействию, нахождению новых эффективных решений. Приоритеты, озвученные депутатами, во многом и определяют наши решения, ведь высказанные здесь точки зрения основаны на запросах людей и, как отмечал президент, важно использовать эту обратную связь для совместной работы и для достижения поставленных целей. Один из весомых примеров подобного сотрудничества— это активное участие в подготовке федерального бюджета на текущие, на два последующих года. Ваша фракция вела активный диалог с Министерством финансов, с Министерством экономического развития, вы продвигали различные предложения по поддержке предпринимательства, для создания условий для развития частной инициативы в России, что кстати, отражено в поправках, которые были представлены ко второму чтению. Вместе с другими депутатами были приняты меры по формированию системы обучения высококвалифицированных кадров. дополнительно девять миллиардов рублей предусмотрели для образовательных производственных центров, и на этих площадках колледжи и предприятия помогут учащимся приобрести необходимый опыт, но и, что очень важно, знания технических наук и технологических процессов. Практически вдвое увеличили финансирование для двухлетних курсов, где смогут заниматься старшеклассники и студенты организации среднего профессионального образования. Там ребята получат возможность освоить языки программирования что конечно, интересно и молодежи, и работодателям. Большое значение имеет содействие проведению исследований в вузах. В федеральном бюджете предусмотрели также полтора миллиарда на создание либо развитие центра инженерных разработок, средства пойдут в том числе на. Для приобретения высокотехнологичного оборудования, передового программного обеспечения они будут доступны не только высшей школе а, что очень важно, а также и научным организациям различного профиля. Такая поддержка— это реальные инвестиции в будущие успехи отечественной промышленности, науки и образования. И хочу еще раз отдельно вас поблагодарить за эффективное сотрудничество с Министерством науки и высшего образования. Важное направление нашей совместной деятельности— это то, чем и вы, Алексей Геннадьевич, занимались уже несколько лет. это программа Я в деле, она дает возможности молодежи бесплатно пройти обучение, чтобы понимать, как заняться бизнесом, как запустить свой стартап. И что важно, уже свыше ста восьмидесяти тысяч студентов, старшеклассников из семидесяти двух регионов страны получили необходимые знания. Очень нужный, важный проект, И год назад в ходе этой же встречи перед отчетом правительства вы как раз приглашали меня посетить финал этой программы, и я с большим удовольствием в мае прошлого года пообщался с ее участниками в московском технопарке. Мы и услышали, увидели много новых интересных проектов, разработок. Ребята, которые там занимаются открытые, энергичные и такие очень инновационные, я бы сказал, и многие из выпускников уже стали бизнесменами выиграли соответственно гранты, реализовали свою мечту. Ну, конечно, такие вот продуманные и понятные инструменты и подробный план развития мог предложить только тот, кто сам уже прошел этот путь, но и сейчас, опираясь на свой опыт и наработки, помогают молодежи делать первые шаги как предпринимателям. Видим также ваше активное участие в проектах по модернизации Донецкой, Луганской народных республик, Херсонской и Запорожской областей, поддержки там малого и среднего бизнеса вместе с депутатами из других. Вы обеспечили необходимые корректировки законодательства. Вообще, в целом содействие частной инициативе очень важно, особенно сейчас, когда на повестке дня стоит укрепление нашего технологического финансового экономического, промышленного суверенитета, и НОВЫЕ ЛЮДИ, конечно, вносят свой активный вклад в решение таких задач. При этом ваша фракция многое делает для отраслевого развития. Скажу отдельно направлении таком, как внутренний туризм, профильный комитет Государственной думы во главе с Сангаджи тарбаевым успешно взаимодействует с моим заместителем Дмитрием николаевичем Чернышенко, и Министерством экономического развития. Я бы хотел отдельно отметить продвижение такого нового направления, как агротуризм, это может стать действительно дополнительным в том числе источником доходов для граждан на селе, ну и также способствовать известности региональных брендов продуктов питания. Вот в прошлом году я знаю, что поддержали уже семьдесят три таких проекта, и это более чем в половине субъектов Российской Федерации. Хотел поблагодарить за содействие с правительственной инициативой, которая расширяет возможности для предпринимателей в такой области. Документ уже прошел первое чтение, и он был создан по итогам совещания с представителями отрасли. Фермеры переживали, что не было раньше права предоставлять услуги по, как вы помните, временному размещению гостей в жилых домах, но вот сейчас как раз законопроект готовится ко второму чтению, мы рассчитываем, что в ближайшее время он будет принят. Спасибо вам. Уважаемые коллеги, хотел бы послушать вас, уважаемый Алексей Геннадьич. Вам слово, Михал Владимирович. Уважаемые члены правительства, коллеги! Перед страной сегодня вызов такой по настоящему исторический стоит, и то, что правительство активно работает с этим вызовом, не просто реагирует на такие возникающие проблемы, а кладет планы по развитию стратегии. Стесняется придумывать не какие то небывалые вещи, которых давно в России не было, это очень профессионально и достаточно быстро Правительство действует. Поэтому благодарю вас всех присутствующих отсутствующих, за такую очень плодотворную работу и конструктивную. Вот. И я думаю что конечно, для всех для нас основная оценка нашей работы и ориентиры на такой ориентир— развитие. Это послание президента федеральному Собранию. Тоже мы видим там очень высокую оценку многих вещей, которые сделаны. Вот высоко, большое очень внимание удил Президент теме предпринимательства промышленности, поддержки предпринимателей. И я считаю, что нам с вами нужно на деле показать, что вот ответственных, ориентированных на будущее предпринимателей тех, кто модернизирует свои предприятия, строят новые, вывозят наши товары российские за границу. Да, вот показывают их в мире те, кто свои прибыли инвестирует тоже там в образование. Например, много открыто, почти сто базовых кафедр в разных вузах. Мы видим, как предприятили школы строят, там кто то делает большие проекты, благотворительные парки. Это все очень хорошо говорит о том, что у нас есть, у Правительства, у народа, есть такие партнеры, с кем можно страну дальше продвигать. Это вот большой для нас тоже вызов— дать этому зеленый свет. И надо сказать, что Правительство очень много тоже работало на эту тему. В прошлом году мы вот провели парламентские слушания по МСП. Вот сидит Андрей рмович белосов здесь, спасибо ему большое за то, что столько он четыре часа уделил этому всем, этим слушаниям. Вячеславикторыч володина блестяще вел. Наша фракция предложила но конечно, лучшего ведущего, чем Вячеславикторыч, у нас не было. И Амырич практически. Половину вопросов предпринимателя ответил сам, ну и министерства другие конечно, тоже там помогали. Было видно что, когда предприятелям дают слово, не чиновники выступают, а там больше тридцати предприятелей выступили, вопросы задали. Это формат, который люди до сих пор мне вспоминают. Обратная связь есть, и очень важно, что это потом все положили дорожную карту, тоже несколько совещаний было, и видно, что мы по дорожной карте двигаемся, и это тоже очень вдохновляюще. Например, мы уже в трех чтениях. Гоздума приняла закон о повышение порогов ущерба по экономическим преступлениям. Девять месяцев Правительство после первого чтения вот дорабатывало. Надо сказать, что вот я и Президенту сказал, что это тот случай когда, хоть и девять месяцев может, все требуется, чтобы что то хорошее родить. Я не знаю, вот. Но добавили новые статьи, где эти пороги повышаются. То есть Правительство тоже свою работу делает. Это один из тоже примеров взаимодействие. Мы практически согласовали законопроект о налоговых льготах для венчерных инвестиций. Ожидаем в ближайшее время положительный отзыв Правительства. Рынок венчерных инвестиций очень ждет этот закон. Понятно, что за секунду все не изменится, но хотя бы будет тоже попутный ветер этому. Я знаю, что Правительство готовит меры поддержки предпринимателей, которые продолжают работать приграничных районах там, Белгородской, Курской областях. предприятия, несмотря на обстрелы, они работают, людям зарплаты выплачивают. И предлагаю, может быть, тоже ориентироваться на тот пакет мер, который во время ковида для предприятий был. Все его тоже вспоминают добрым словом. И конечно, губернатор Белгородской области, он нашел тоже какие то возможности помочь предприятием из регионального бюджета. Но мне. что вот, так сказать, правильно было бы, чтобы это было и федеральное финансирование тоже. Ну, тут будем ждать того пакета, который вы вместе готовите. Если переходить, про такие стратегические наши приоритеты. Всегда у России их очень много, и я бы хотел на двух из них ограничить наше внимание в этом сегодняшней встрече. Это первая тема это искусственный интеллект. Мы в России и так неплохо, в искусственном интеллекте наши франтирные компании неплохо себя чувствуют. Но что я вижу? Сейчас стали звучать все больше призывов эту сферу зарегулировать. Не только коммунистам двонков не нравится, но и искусственный интеллект тоже надо не нравится. Поэтому давайте мы здесь внимательно посмотрим, ведь есть же уже примеры например, Евросоюза, который зарегулировал весь искусственный там интеллект. И что мы видим? Просто компании переезжают в другие страны. Да, там, начиная там от Великобритании и кончая... другие наши национальные компании, они риски все понимают, и они очень ответственные. сейчас сами приняли этический кодекс в сфере искусственного интеллекта. Я предлагаю, что нам в Россию надо пойти тем путем, которым тоже некоторые страны идут, где есть большее пространство для экспериментов. Нам важно, чтобы Россия стала лидером на этом рынке. Может быть, мы сейчас уже неплохо себя чувствуем, но надо. Там это наверное, сравнимо с САКИ начинается фазовый переход. Это примерно как вот была домонуфактурная. Да и монуфактурная экономика— это не не та сфера, где надо лезть сейчас с регулированием. Вот, более того, мы видим как например, наши соседи Китай там в этом направлении напро наращивает свои усилия, там выбрали свои направления. Закрепили, закрепились за крупнейшими компаниями, вот дали Ткарбланж, там заказы, направленные решения. Вот предлагаю двигаться не только в такой же логике, но еще и более опережающе. У нас регионы. Вот москва уже ввела режим, экспериментальный правовой режим для искусственного интеллекта, давайте другим регионам решим это делать. Думаю, нас. у нас так быстрее начнут разрабатываться и внедряться продукты. Уже много есть хороших продуктов для финансового сектора, но мы видим и для промышленности, и для строительства, и перевозки. Сельское хозяйство вот ну, нам нужно, я считаю, что и здравоохранение, такие решения, и госуправление, может быть, чему кто то хочет зарегулировать все может, какие то депутаты боятся, что просто они не нужны станут сли искустввственный телет. Вот наша фракция это не боится. Я думаю, Правительство тоже такого не боится, Да, при этом конечно, есть некоторые новые угрозы от искусственного интеллекта. Вот в марте есть сотни случаев, когда мошенники с помощью искусственного интеллекта уже подделывают голос человека, звонят его родным, Вот. Но тоже регулирование здесь не поможет. Здесь нужна большая информационная компания. рассказывать людям о том, какие появились новые опасные схемы, какие риски, связанные с голосом. Здесь, может быть, разные сферы, давайте это обсуждать. Там вот помните, МЧС, например, делает СМС рассылки да, вот уведомления людей. Может быть, такие формы может, какие то другие, но это с одной стороны. А с другой стороны, надо показать тоже нашим людям, как такие разработки упрощают жизнь, как повышают качество услуг. Мы в прошлом году обращались в Мин просвещения, чтобы включить изучение искусственного интеллекта в школьную программу ну. Что это решение не быстрое и есть проблемы реальные что ну, некому учить. Поэтому мы сами сейчас сделали программу нейростарт это бесплатный курс по обучению школьников студентов, всех желающих по работы с нейросетями. Когда? Но я думаю, что это все рапрос системный, здесь партийный проект государство не заменит. И кроме того, искусственный интеллект важен для второй масштабной задачи— это собственно, работализация промышленности. К две тысячи тридцатому году Россия должна войти в топ двадцать пять стран мира по числу промышленных роботов. Если президент послание это сказал, то сомнений, что мы туда войдем, у меня нет. Но вопрос в том что, кроме того, что надо иметь это железо, это задача, которую надо решать комплексно. Ведь роботы— это не столько даже станки манипуляторы, это в большей степени система управления сложная это собственно, мозги. Вот И вот эта сфера, она тоже конечно, с темой искусственно интеллекта очень дружит. И более того, по оценкам экспертов, к тридцатому году наибольшая прибыль в отрасли робототехники будет не в продаже железа и производство железа, а в мозгах, в этих системах управления. Вот поэтому нам нужны и роботы, но еще больше нужна работатизация. И знаю тоже, что есть, готовится один из прорывных проектов в этой именно области. Вот. Но и также сегодня позже вам передам наше предложение то, что считаем, что это тоже то место, где куется будущее. Уважаемый михал Владимирич, спасибо вам большое за Ваше участие вот в мероприятиях нашей образовательной программы. Я в деле. Когда президент это поддержал, это очень дало возможность увеличить объем участников программы. Мы. Этого работали там в ста пятидесятих вузах. после поддержки президента объем увеличился там уже в прошлом году до пятисот с лишним вузов страны. Но когда вы пришли, еще и с ребятами— победителями, финалистами пообщались, теперь все хотят тоже участвовать, побеждать. Вот мы не обещали, что вы еще придете, вот. Но все уже ждут. Я думаю, вот жизнь покажет, будет ли на это возможность, будет ли время на это. И действительно, вот мне представляет, что многие вот сегодня сказанные вами и мной истории показывают, что мы с правительством очень активно сотрудничаем. Спасибо большое. Наша фракция первый раз в Гоздуме, поэтому многому приходилось учить, учиться и нас учить, и это только пока половин нашего срока. Вот надеемся, что это сотрудничество будет и дальше хорошо развиваться. Мы не только, я так думаю, и наша фракция, но и вот мы, наш российский искусственный интеллект в Кандинский зарядили совместную повестку сегодняшнего заседания. Вот. И вот он такое изображение сгенерировал. По моему, оно тоже вполне радужное. Я вам тоже потом передам. Сейчас тут далековато. Вот. Так что мы с вами не одиноки, с нами искуственный интеллект. Да, спасибо. Уважаемый алексей Геннадьевич, вы широко по всем вопросам сейчас высказались и конечно, есть что обсудить, поэтому я с удовольствием предоставлю слово членам вашей фракции.',\n",
       " 'Начинается совещание. расскажи пожалуйста, зачем собрались? Ты руководитель пожалуйста, представься на. Спасибо, что дали слово руководителю. Добрый день, коллеги. У нас был. были классные показатели. Давайте обсудим, как нам продвигаться, какую компанию нам запустить, потому что сроки уже поджимают. Егор Олегович, Ваш отдел подготовил какие то предложения? Да, у меня есть несколько предложений. Будем продавать в этот раз на основе исторических данных. У нас есть срез данных за последние десять лет, за пятнадцать. За пятнадцать, Прости. Свяжитесь, пожалуйста, с отделом аналитики. Да, понедельнику следующий. Мне нужно, чтобы вы дали добро и поручение на это. То есть там у нас с отделом аналитики проблема. Руководитель, которая назначена недавно, она не воспринимает меня как равного, потому что я руководитель отдела, она руководитель большого направления аналитики и говорит, что я ничего не понимаю. Поставьте мне задачу на языке техническом, и Вы не. Ну, Ваш язык маркетолога, он слишком расплывчатый и красивый. В жизни все не так. Вот так вот она мне отвечает: Хорошо, я поставлю задачу. Да, мне очень нужна ваша помощь. Считаю, что от этого зависит вообще успех нашей маркетонг компании. Понедельнику следующей неделе, чтобы был готов отчет по прогнозу, по магазинам, по всем да, районах Москвы. Да, я буду благодарен за помощь. А мы на Валберисе присутствуем? У нас есть, Да, конечно да да, мы присутя. Предлагаю сделать так: давайте продавать ручки годовым запасом, типа акцию типа ну человек, чтобы сразу купил много ручек, чтобы ему хватило на весь кулаков. ну типа, сколько ручек нужно в год ой, в месяц, типа. Пять, пять на двенадцать. я не умею считать. Это тоже можно сделать на основе анализа данных. У нас есть карты покупателей ленты, и по карте покупателя Лента у нас есть доступ к этим данным. Сколько раз люди покупали ручки? Вот просто сделаем типа классный стильный бокс, типа годовой запас лучек, чтобы в августе его купить дешевле. и запустим рекламу типа, купите сразу, чтобы потом весь год не переживали на Алберсе, там, в Ленте, еще где нибудь, и все. Я предлагаю сделать так: можем подарить какому нибудь микроблогеру набор ручек там типа, у кого подписчиков штук семьсот— восемьсот в Телеграмме, и пусть они сделают нам. Да, у нас еще была идея повысить использование ручек не только для письма, потому что гелеевые ручки— это все равно специфика и очень узкая история. И спрос на гелеевые ручки как раз повышается именно к ЕГЭ ГИА, к экзаменам. Хотим, простите, я так говорю, мы хотим сделать компанию по тому, как ютуб блогеры используют гелеевые ручки для всяких изделий. Да что это делай да, типа с дип поделок, Диалай для поделок и для того чтобы например, там какие нибудь вещи красивые рисовать, для того, чтобы выдуть например, там какое нибудь хулиганство сделать с этой ручкой. То есть мы запустим такую компанию, и на этом хайпе мы сможем увеличить срок большой, время больших продаж. Не только там, во время экзаменов что? А сейчас чтоединственное, что там какой то скетч, букет. Нет, тут буки все. это офлайн история, она не. Да нет, про то, что люди, которые заполняют. Красиво, им нужны ручки для этого. Но это не то, это не прикол. Вот с ЕГЭ можно сделать так, что типа акцию, чтобы просто школу закупили у нас ручки, что все школы, очень много школ покупают для ЕГЭ, типа в августе будет дешевле купить, мы им просто дадим огромный запас ну, типа три тысячи ручек, пять. Есть проблема. Бюджет школ закладывается на Новый год, типа на декабрь, в декабре новый бюджет формируется, так как это государственное учреждение. мы можем только в январе такую продажу создать. Да, конечно. Во сколько вообще у нас средняя цена продажи на ручке? Да, это в розницу. А в Опти, если мы будем продавать, мы же даем опловые цены, Окей. Надо с этим что то сделать, с этими цифрами. Надо подумать как, как это все провязать. Эту задачу я беру на себя да, проанализировать канал продаж ручек через школы: либо через родительские комитеты, либо через конкретно там учительские или как то так точно. В начальной школе ручки закупают родители сами, у них есть всякие разные творческие предметы, типа по субботам там будет рукоделие, есть окружающий мир и ЗО — цветные гелевые ручки. Можно предложить опять пустить информацию через родительские чаты, предложить какую то реферальную систему, чтобы они закупили на весь класс ручки массово у нас, Окей. Ну, то есть задача— продумать эти моменты. Это мозговой штурм. У меня целая команда есть, которая может этим заняться, Да, Но вот с точки зрения маркетинга, вот почему здесь втроем мы с Анной хоти хотел бы посоветоваться. у нас повышается процент. процент возврата ручек, потому что они подтекают и. Ну подождите, ну вы издеваетесь над ней конечно, но на самом деле ручка подтекает в необычном месте, то есть не через носик. У нас в прошлом сезоне была проблема, что через носик, когда пишешь, она слишком вытекает капелька. А теперь теперь ручка течет с обратной стороны. Интересно, ну, это вот. То есть она лежит просто в пенале у человека, и через обратную сторону она начинает вытекать, особенно в период не зимы, когда там жаркая погода или когда с зимы люди часто переходят вот там в дом на улицу. В дом, на улицу, и она то охлаждается, то нагревается, получается ручка. Я не знаю, что с ней происходит. Ну, реально у нас из за того, что ручка запачкала портфель и пенал, повышается количество вот обращений и возвратов этих ручек, просто переходит на другого изготовителя. Мы проработаем много дизайн ручек, чтобы такого больше не случалось. А в чем дело, может быть? Ну, видимо, ручка плохо закрыта. А были ли еще какие то жалобы? Вот у меня только это зафиксировано, я видел, там еще три штуки были, но они как то в голову мне не легли, но быстро ломается. Легкий материал используется, чтобы не. А, корпус, Да, да, корпус. Ну, в цело у нас ручки же, они немногоразовые. Наша ручка закончилась чернила. выкинуть, Ничего страшного. Я думаю ну, пятьдесят рублей жалко выкидывать. Пятьдесят рублей. Пятьдесят рублей. Вот я учился в школе, я покупал ручки один раз на первое сентября, и они у меня лежали в. Потом я писал только теми, которые находил в школе. Никогда ничего, вот начиная с девятого класса я ничего в школе не покупала. Почему вы ходили в школу? Какие вопросы к директору? Простите ань, какие еще проблемы у нас с корпусом? Беда еще, что нам просто надо эти моменты отразить в маркетинговой компании. Наоборот, мы не будем говорить: у нас самый крепкий корпус, а на самом деле это не так. Чтобы вот такие вещи не были, мне кажется, нужно еще проработать именно с дизайном упаковки этих ручек, чтобы они были более яркими и мы выделялись на фоне конкурентов. А третий? А можете уточнить? Пожалуйста. Сейчас, да, потому что я, насколько помню, третий был самый критический. Вот то, что Вы назвали, они такие быстро заканчивается чернила. Точно, да? Ну какой вообще средний срок, чтобы усерд за неделю. Даже прикиньте, у нас, сколько ручек нам надо. То есть мы берем ручку за пятьдесят рублей и за пять дней ее растрачиваем. получается у нас десять рублей. ручка шарикова не дает красиво. Мне хотелось, чтобы все было красиво. Я купила, я покупала ручки каждую неделю я покупала черную ручку. Да, но это из Вашей биографии, почему мы основали эту компанию? Ну, Вы знаете, я считаю, что нужно относиться, я считаю, что нужно. ждет такой посыл, что жизнь— это ну, про красоту, про удовольствие, что каждый момент должен быть наполнен. Вот вы должны пожалуйста, записать это в нашу стратегию маркетинговую, про то, что все должно быть с удовольствием, с радостью, даже на скучном уроке математики, если. Черной красивой гелевой ручкой этот эстетичный конспект это будет удовольствие, чем вот этой уродливой шариковой синей, блеклой ручкой. Это некрасиво, отвратительно. А черный гелевой ручку можно создавать красивые конспекты. У нас классная формула: мы два года работали предстоя компании, чтобы наши ручки не растекались. Это они мгновенно засыхают, но с этим нет проблем. Мы это тоже уже. Почему до сих пор этого нет нашей Ватиной компании? Егор Олегович, как это произошло? Ведь я же говорила вам уже полтора года Вам говорю. Добавьте это, пожалуйста. Это очень важно, что наше уникальное торговое предложение наши ручки засыхают сразу же. Мы транслируем это, только другим языком, хочу прямым языком. Хорошо. Следующий: дорого да. Следующая рекламная компания начинается через месяц. Беру на себя обязательства через месяц эту историю с посылом про то, что наши ручки, самые быстро засыхающие и нерастекающиеся учесть, потом замерим. На самом деле мы не ставили этот посыл именно в таком ключе, потому что разная целевая аудитория и например, под разную целевую аудиторию об этой быстрой засыхаемости нужно подавать информацию по разному. Условно, есть люди, которые на результат нацелены, люди цели, даже такое примитивное разделение: и им важно, чтобы ручка засохла и например, им важно, чтобы был чистый конспект и чтобы это было быстро. То есть мы описываем образ результата, что быстрый чистый конспект, и вы его дописали, закрыли тетрадь и закончили, и ничего нигде не отпечатывается. Мы вот такой посыл делаем. А есть люди процесса, и для людей процесса у нас немного другая адаптация. Про то, что эта ручка, когда. Все ка. Ну, мы описываем свойство чернила там, свойство того, как получаются зветочки все, как это ровно получается. И мы визуальной рекламе нашей делаем как раз образ того, как красиво ручка проводит по листу и там не остается разводов, да? Ну, учтем да, и проработаем. И учтем, да. И просто покажем, какие наработки у нас есть. Тут проблемы нет никакой. Хорошо. Ну, то есть подводите итог. Мне кажется, мы уже вокруг доколы ходим. у нас первое сентября, мы решили все наши проблемы. Но было сколько вопросов на повестке? Три: маркетинг, качество и новая рекламная компания. Да, для того чтобы к сентябрю мы все это сделали. В итоге какой образ вообще, результаты у нас, сколько денег мы должны заработать на этой компании? Вот в прошлом году, вы помните, какая выручка была? Двадцать восемь— двадцать восемь миллионов, а чистая прибыль. Ну, это нормально получается, почти пятьдесят шесть процентов. Так, давайте сейчас посчитаю. что вы. Не быть голословным. Так голословным, да? шестьдесят, двадцать восемь, сорок шестнадцать. двадцать восьмой, правильно. пятьдесят семь. На один процент ошибся, да? Получается, что тридцать пять миллионов при сохранении тоже чистой прибыли. Пятьдесят семь процентов получается. Тридцать пять умножить на ноль— пятьдесят семь— чистая прибыль будет приближаться к двадцати миллионам. Нормально? Этого хватит для того, чтобы впервые выплатить дивиденды больше чем пять процентов. Даеще БМВ купите Тогда надо дивиденды повышать не вам, а всем, всем стейхолдерам, которые владеют акцией, в том числе и вам, Да, Вы. Вы основатель понятно, и операционный директор, важная шишка. Нет, конечно нет, конечно. Мы. Мы же компания, открытое акционерное общество, и у нас акциями ваши, вашей компании, владеете не только вы, но ваш бывший муж и несколько важных инвесторов, у которых в сумме сорок девять процентов, да? Ну, это это за рамками совещания. Хорошо, заканчивайте совещание. Спасибо, коллеги. До свидания. Да, встретимся в следующий раз через неделю.',\n",
       " 'сельского хозяйства. Оксана николаевна Луд, вам слово, Пожалуйста. Уважаемый михаил Владимирович, уважаемые коллеги! Представляю национальный доклад о реализации в двадцать третьем году госпрограммы развития сельского хозяйства для укрепления продовольственной безопасности нашей страны и обеспечения наших граждан качественными и разнообразными продуктами питания. Спасибо. Доклад окончен. Спасибо, Оксана Николаевна. Уже традиционно мы готовимся заранее к уборке урожая, затем соответствующие осенние полевые работы.',\n",
       " 'Большое спасибо. Уважаемый михаил Владимирович, в первую очередь решите поблагодарить Вас за приглашение посетить Российскую Федерацию, город Москву. Я с большим удовольствием его принял, потому что наши страны стратегические.']"
      ]
     },
     "execution_count": 83,
     "metadata": {},
     "output_type": "execute_result"
    }
   ],
   "source": [
    "all_texts"
   ]
  },
  {
   "cell_type": "code",
   "execution_count": 84,
   "metadata": {},
   "outputs": [
    {
     "data": {
      "text/plain": [
       "[2, 3, 2, 2]"
      ]
     },
     "execution_count": 84,
     "metadata": {},
     "output_type": "execute_result"
    }
   ],
   "source": [
    "speakers\n"
   ]
  },
  {
   "cell_type": "code",
   "execution_count": 85,
   "metadata": {},
   "outputs": [
    {
     "data": {
      "text/plain": [
       "['Встреча 6', 'Встреча 1', 'Встреча 3', 'Встреча 7']"
      ]
     },
     "execution_count": 85,
     "metadata": {},
     "output_type": "execute_result"
    }
   ],
   "source": [
    "audio_names"
   ]
  },
  {
   "cell_type": "code",
   "execution_count": 86,
   "metadata": {},
   "outputs": [],
   "source": [
    "import pandas as pd\n",
    "\n",
    "df = pd.DataFrame({'Наименование аудиозаписи': audio_names, \n",
    "                   'Транскрибированный текст': all_texts,\n",
    "                   'Число спикеров': speakers,})\n",
    "\n",
    "df = pd.concat([pd.DataFrame([], columns=df.columns), df], ignore_index=True)"
   ]
  },
  {
   "cell_type": "code",
   "execution_count": 87,
   "metadata": {},
   "outputs": [],
   "source": [
    "df.to_csv('data_v4.csv', sep=';', index=False)"
   ]
  },
  {
   "cell_type": "code",
   "execution_count": null,
   "metadata": {},
   "outputs": [],
   "source": []
  }
 ],
 "metadata": {
  "kernelspec": {
   "display_name": "nemo_v5",
   "language": "python",
   "name": "python3"
  },
  "language_info": {
   "codemirror_mode": {
    "name": "ipython",
    "version": 3
   },
   "file_extension": ".py",
   "mimetype": "text/x-python",
   "name": "python",
   "nbconvert_exporter": "python",
   "pygments_lexer": "ipython3",
   "version": "3.12.4"
  }
 },
 "nbformat": 4,
 "nbformat_minor": 2
}
